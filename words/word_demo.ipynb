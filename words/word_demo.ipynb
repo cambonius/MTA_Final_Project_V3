{
 "cells": [
  {
   "cell_type": "code",
   "execution_count": null,
   "id": "d84ae92c-e864-429d-a5af-1a6d37d74a6a",
   "metadata": {},
   "outputs": [],
   "source": []
  },
  {
   "cell_type": "code",
   "execution_count": 1,
   "id": "05185c21-7c7c-4d55-9beb-8e71e6fe76b5",
   "metadata": {
    "tags": []
   },
   "outputs": [
    {
     "name": "stdout",
     "output_type": "stream",
     "text": [
      "40000\n"
     ]
    }
   ],
   "source": [
    "cwords = open('common-words.txt','r').readlines()\n",
    "words = [w.split()[0].lower() for w in cwords]\n",
    "words = words[:40000]\n",
    "print(len(words))"
   ]
  },
  {
   "cell_type": "code",
   "execution_count": 4,
   "id": "edb4cb9e-dca5-4a4d-ae25-1367f548096c",
   "metadata": {
    "tags": []
   },
   "outputs": [
    {
     "name": "stdout",
     "output_type": "stream",
     "text": [
      "[['THE', '53097401461'], ['OF', '30966074232'], ['AND', '22632024504'], ['TO', '19347398077'], ['IN', '16891065263'], ['OILMEN', '100016'], ['EVANG', '100011'], ['XXL', '100009'], ['LOSEY', '100008'], ['WESTERGAARD', '100005']]\n"
     ]
    }
   ],
   "source": [
    "word_freq = []\n",
    "for w in cwords:\n",
    "    x = w.split()\n",
    "    word_freq.append(x)\n",
    "print(word_freq[:5]+word_freq[-5:])\n",
    "\n",
    "\n",
    "    "
   ]
  },
  {
   "cell_type": "code",
   "execution_count": 5,
   "id": "659cec40-41ff-4b28-b916-bb3f7045057b",
   "metadata": {
    "tags": []
   },
   "outputs": [],
   "source": [
    "import json\n",
    "ofile = open('common_words.json','w')\n",
    "json.dump(word_freq,ofile)\n",
    "ofile.close()"
   ]
  },
  {
   "cell_type": "code",
   "execution_count": 42,
   "id": "5f85ce11-0df4-4052-8a91-27eda9e90555",
   "metadata": {
    "tags": []
   },
   "outputs": [
    {
     "data": {
      "text/plain": [
       "['beit',\n",
       " 'combo',\n",
       " 'farcical',\n",
       " 'brookes',\n",
       " 'ric',\n",
       " 'christening',\n",
       " 'scalps',\n",
       " 'mendez',\n",
       " 'felonies',\n",
       " 'sandpaper',\n",
       " 'kentish',\n",
       " 'hardinge',\n",
       " 'diviner',\n",
       " 'maher',\n",
       " 'loophole',\n",
       " 'waked',\n",
       " 'kristin',\n",
       " 'oglethorpe',\n",
       " 'fortuna',\n",
       " 'concavity']"
      ]
     },
     "execution_count": 42,
     "metadata": {},
     "output_type": "execute_result"
    }
   ],
   "source": [
    "words[-20:]"
   ]
  },
  {
   "cell_type": "code",
   "execution_count": 46,
   "id": "6876bef1-5939-4b1e-adf9-26ce4c653524",
   "metadata": {
    "tags": []
   },
   "outputs": [
    {
     "name": "stdout",
     "output_type": "stream",
     "text": [
      "2884\n"
     ]
    }
   ],
   "source": [
    "words4 = [w for w in words if len(w)==4 and w==w.lower()]\n",
    "print(len(words4))"
   ]
  },
  {
   "cell_type": "code",
   "execution_count": 51,
   "id": "64a8d541-fb32-423e-ab6f-7c2fafb5fdd3",
   "metadata": {
    "tags": []
   },
   "outputs": [
    {
     "name": "stdout",
     "output_type": "stream",
     "text": [
      "['jane', 'tune', 'jung', 'junk', 'jute', 'jude', 'dune', 'jure', 'juno']\n"
     ]
    }
   ],
   "source": [
    "def dif(w1,w2):\n",
    "    return len([i for i in range(len(w1)) if w1[i]!=w2[i]])\n",
    "def next(w):\n",
    "    return [w1 for w1 in words4 if dif(w,w1)==1]\n",
    "print(next('june'))\n",
    "        "
   ]
  },
  {
   "cell_type": "code",
   "execution_count": 45,
   "id": "65751871-76ba-4410-ae7d-cbefdd793b07",
   "metadata": {
    "tags": []
   },
   "outputs": [
    {
     "name": "stdout",
     "output_type": "stream",
     "text": [
      "4292\n"
     ]
    }
   ],
   "source": [
    "words5 = [w for w in words if len(w)==5 and w==w.lower()]\n",
    "print(len(words5))"
   ]
  },
  {
   "cell_type": "code",
   "execution_count": 32,
   "id": "3eca7f48-1ceb-4cd5-8727-20bf02b98888",
   "metadata": {
    "tags": []
   },
   "outputs": [
    {
     "name": "stdout",
     "output_type": "stream",
     "text": [
      "82490\n"
     ]
    }
   ],
   "source": [
    "words6 = [w for w in words if len(w)==6 and w==w.lower()]\n",
    "print(len(words6))"
   ]
  },
  {
   "cell_type": "code",
   "execution_count": 33,
   "id": "23c574b0-5e13-4c54-b58e-eae01f73255a",
   "metadata": {
    "tags": []
   },
   "outputs": [
    {
     "name": "stdout",
     "output_type": "stream",
     "text": [
      "36238\n"
     ]
    }
   ],
   "source": [
    "words7 = [w for w in words if len(w)==7 and w==w.lower()]\n",
    "print(len(words7))"
   ]
  },
  {
   "cell_type": "code",
   "execution_count": 34,
   "id": "b8fdddb5-f8a1-4a47-855e-bdb495286f27",
   "metadata": {
    "tags": []
   },
   "outputs": [
    {
     "name": "stdout",
     "output_type": "stream",
     "text": [
      "19071\n"
     ]
    }
   ],
   "source": [
    "words8 = [w for w in words if len(w)==8 and w==w.lower()]\n",
    "print(len(words8))"
   ]
  },
  {
   "cell_type": "code",
   "execution_count": 35,
   "id": "e04904a4-19b0-4221-b76e-bbfd087ae2a6",
   "metadata": {
    "tags": []
   },
   "outputs": [
    {
     "name": "stdout",
     "output_type": "stream",
     "text": [
      "8533\n"
     ]
    }
   ],
   "source": [
    "words10 = [w for w in words if len(w)==10 and w==w.lower()]\n",
    "print(len(words10))"
   ]
  },
  {
   "cell_type": "code",
   "execution_count": 36,
   "id": "64d70397-e850-430d-86dd-4cc33260d56a",
   "metadata": {
    "tags": []
   },
   "outputs": [
    {
     "name": "stdout",
     "output_type": "stream",
     "text": [
      "3700\n"
     ]
    }
   ],
   "source": [
    "words12 = [w for w in words if len(w)==12 and w==w.lower()]\n",
    "print(len(words12))"
   ]
  },
  {
   "cell_type": "code",
   "execution_count": 13,
   "id": "1d842d31-b342-494f-a1a4-ef2adac41723",
   "metadata": {
    "tags": []
   },
   "outputs": [
    {
     "name": "stdout",
     "output_type": "stream",
     "text": [
      "5586\n"
     ]
    }
   ],
   "source": [
    "words15 = [w for w in words if len(w)==15 and w==w.lower()]\n",
    "print(len(words15))"
   ]
  },
  {
   "cell_type": "code",
   "execution_count": 19,
   "id": "f8e82a14-6d34-4c67-8a10-052a2cb1f815",
   "metadata": {
    "tags": []
   },
   "outputs": [
    {
     "name": "stdout",
     "output_type": "stream",
     "text": [
      "4360\n"
     ]
    }
   ],
   "source": [
    "words4 = [w for w in words if len(w)==4 and w==w.lower()]\n",
    "print(len(words4))"
   ]
  },
  {
   "cell_type": "code",
   "execution_count": 20,
   "id": "de4ac567-397a-4d4c-a747-09c3bac5b942",
   "metadata": {
    "tags": []
   },
   "outputs": [
    {
     "name": "stdout",
     "output_type": "stream",
     "text": [
      "1142\n"
     ]
    }
   ],
   "source": [
    "words3 = [w for w in words if len(w)==3 and w==w.lower()]\n",
    "print(len(words3))"
   ]
  },
  {
   "cell_type": "code",
   "execution_count": 21,
   "id": "61151f92-ce82-480b-a0b2-d964acabc50b",
   "metadata": {
    "tags": []
   },
   "outputs": [
    {
     "name": "stdout",
     "output_type": "stream",
     "text": [
      "121\n"
     ]
    }
   ],
   "source": [
    "words2 = [w for w in words if len(w)==2 and w==w.lower()]\n",
    "print(len(words2))"
   ]
  },
  {
   "cell_type": "code",
   "execution_count": 22,
   "id": "3ff351bd-e589-4539-88cc-9b91b3b0b5cf",
   "metadata": {
    "tags": []
   },
   "outputs": [
    {
     "name": "stdout",
     "output_type": "stream",
     "text": [
      "26\n"
     ]
    }
   ],
   "source": [
    "words1 = [w for w in words if len(w)==1 and w==w.lower()]\n",
    "print(len(words1))"
   ]
  },
  {
   "cell_type": "code",
   "execution_count": 25,
   "id": "d71a509e-8453-4172-8c71-1d2aa50a47ed",
   "metadata": {
    "tags": []
   },
   "outputs": [
    {
     "name": "stdout",
     "output_type": "stream",
     "text": [
      "['aal', 'aam', 'aba', 'abb', 'abu', 'aby', 'ace', 'ach', 'act', 'add', 'ade', 'ado', 'ady', 'adz', 'aer', 'aes', 'aft', 'aga', 'age', 'ago', 'agy', 'aha', 'aho', 'ahu', 'aid', 'ail', 'aim', 'air', 'ait', 'aka', 'ake', 'ako', 'aku', 'ala', 'alb', 'ale', 'alf', 'alk', 'all', 'aln', 'alo', 'alp', 'alt', 'aly', 'ama', 'ame', 'ami', 'amp', 'amt', 'amy', 'ana', 'and', 'ani', 'ann', 'ant', 'any', 'apa', 'ape', 'apt', 'ara', 'arc', 'are', 'ark', 'arm', 'arn', 'art', 'aru', 'arx', 'ary', 'ase', 'ash', 'ask', 'asp', 'ass', 'ast', 'ate', 'auh', 'auk', 'aum', 'ava', 'ave', 'avo', 'awa', 'awd', 'awe', 'awl', 'awn', 'axe', 'aye', 'ayu', 'azo', 'baa', 'bac', 'bad', 'bae', 'bag', 'bah', 'bal', 'bam', 'ban', 'bap', 'bar', 'bas', 'bat', 'baw', 'bay', 'bed', 'bee', 'beg', 'bel', 'ben', 'ber', 'bes', 'bet', 'bey', 'bib', 'bid', 'big', 'bin', 'bis', 'bit', 'biz', 'blo', 'boa', 'bob', 'bod', 'bog', 'bom', 'bon', 'boo', 'bop', 'bor', 'bot', 'bow', 'boy', 'bra', 'bub', 'bud', 'bug', 'bum', 'bun', 'bur', 'bus', 'but', 'buy', 'bye', 'cab', 'cad', 'cag', 'cal', 'cam', 'can', 'cap', 'car', 'cat', 'caw', 'cay', 'cee', 'cel', 'cep', 'cha', 'che', 'chi', 'cho', 'cig', 'cit', 'cly', 'cob', 'cod', 'coe', 'cog', 'col', 'con', 'coo', 'cop', 'cor', 'cos', 'cot', 'cow', 'cox', 'coy', 'coz', 'cro', 'cry', 'cub', 'cud', 'cue', 'cum', 'cup', 'cur', 'cut', 'cwm', 'cyp', 'dab', 'dad', 'dae', 'dag', 'dah', 'dak', 'dal', 'dam', 'dan', 'dao', 'dap', 'dar', 'das', 'daw', 'day', 'deb', 'dee', 'deg', 'den', 'dev', 'dew', 'dey', 'dha', 'dhu', 'dib', 'did', 'die', 'dig', 'dim', 'din', 'dip', 'dis', 'dit', 'div', 'dob', 'doc', 'dod', 'doe', 'dog', 'dom', 'don', 'dop', 'dor', 'dos', 'dot', 'dow', 'dry', 'dub', 'dud', 'due', 'dug', 'dum', 'dun', 'duo', 'dup', 'dux', 'dye', 'ean', 'ear', 'eat', 'ebb', 'edh', 'eel', 'eer', 'eft', 'egg', 'ego', 'eke', 'elb', 'eld', 'elf', 'elk', 'ell', 'elm', 'els', 'elt', 'eme', 'emu', 'end', 'ens', 'eon', 'era', 'erd', 'ere', 'erg', 'err', 'ers', 'ess', 'eta', 'eve', 'ewe', 'eye', 'eyn', 'fad', 'fae', 'fag', 'fam', 'fan', 'far', 'fat', 'fay', 'fed', 'fee', 'fei', 'fen', 'fet', 'feu', 'few', 'fey', 'fez', 'fib', 'fid', 'fie', 'fig', 'fin', 'fip', 'fir', 'fit', 'fix', 'flu', 'fly', 'fob', 'fod', 'foe', 'fog', 'foo', 'fop', 'for', 'fot', 'fou', 'fow', 'fox', 'foy', 'fra', 'fro', 'fry', 'fub', 'fud', 'fug', 'fum', 'fun', 'fur', 'fut', 'gab', 'gad', 'gag', 'gaj', 'gal', 'gam', 'gan', 'gap', 'gar', 'gas', 'gat', 'gau', 'gaw', 'gay', 'gaz', 'ged', 'gee', 'gel', 'gem', 'gen', 'geo', 'ger', 'get', 'gey', 'gez', 'gib', 'gid', 'gie', 'gif', 'gig', 'gim', 'gin', 'gio', 'gip', 'git', 'gnu', 'goa', 'gob', 'god', 'gog', 'goi', 'gol', 'gon', 'goo', 'gor', 'gos', 'got', 'goy', 'gra', 'grr', 'gud', 'gue', 'gul', 'gum', 'gun', 'gup', 'gur', 'gut', 'guy', 'guz', 'gym', 'gyn', 'gyp', 'had', 'hag', 'hah', 'hak', 'ham', 'han', 'hao', 'hap', 'hat', 'hau', 'haw', 'hay', 'hei', 'hem', 'hen', 'hep', 'her', 'het', 'hew', 'hex', 'hey', 'hia', 'hic', 'hid', 'hie', 'him', 'hin', 'hip', 'his', 'hit', 'hob', 'hod', 'hoe', 'hog', 'hoi', 'hop', 'hot', 'how', 'hox', 'hoy', 'hub', 'hud', 'hue', 'hug', 'huh', 'hum', 'hup', 'hut', 'hyp', 'iao', 'iba', 'ice', 'ich', 'icy', 'ide', 'ife', 'ihi', 'ilk', 'ill', 'imi', 'imp', 'imu', 'ing', 'ink', 'inn', 'ion', 'ire', 'irk', 'ism', 'iso', 'ist', 'its', 'iva', 'ivy', 'iwa', 'iyo', 'jab', 'jag', 'jam', 'jap', 'jar', 'jaw', 'jay', 'jed', 'jet', 'jib', 'jig', 'job', 'joe', 'jog', 'jot', 'jow', 'joy', 'jud', 'jug', 'jut', 'kai', 'kan', 'kat', 'kay', 'kea', 'keb', 'ked', 'kef', 'keg', 'ken', 'kep', 'ket', 'kex', 'key', 'khu', 'kid', 'kil', 'kim', 'kin', 'kip', 'kit', 'koa', 'kob', 'koi', 'kon', 'kop', 'kor', 'kos', 'kou', 'kra', 'kyl', 'lab', 'lac', 'lad', 'lag', 'lai', 'lak', 'lam', 'lan', 'lap', 'lar', 'las', 'lat', 'law', 'lax', 'lay', 'lea', 'led', 'lee', 'leg', 'lei', 'lek', 'let', 'leu', 'lev', 'lew', 'ley', 'lid', 'lie', 'lim', 'lin', 'lip', 'lis', 'lit', 'loa', 'lob', 'lod', 'lof', 'log', 'loo', 'lop', 'lot', 'low', 'lox', 'loy', 'lue', 'lug', 'lum', 'lut', 'lux', 'lye', 'lys', 'mac', 'mad', 'mae', 'mag', 'mal', 'man', 'mao', 'map', 'mar', 'mas', 'mat', 'mau', 'maw', 'may', 'mel', 'mem', 'men', 'met', 'mew', 'mho', 'mib', 'mid', 'mig', 'mil', 'mim', 'min', 'mir', 'mix', 'mob', 'mog', 'mon', 'moo', 'mop', 'mor', 'mot', 'mou', 'mow', 'moy', 'mud', 'mug', 'mum', 'mun', 'mux', 'naa', 'nab', 'nae', 'nag', 'nak', 'nam', 'nan', 'nap', 'nar', 'nat', 'naw', 'nay', 'nea', 'neb', 'nee', 'nef', 'nei', 'neo', 'nep', 'net', 'new', 'nib', 'nid', 'nig', 'nil', 'nim', 'nip', 'nit', 'nix', 'noa', 'nob', 'nod', 'nog', 'non', 'nor', 'not', 'now', 'noy', 'nth', 'nub', 'nul', 'nun', 'nut', 'nye', 'oaf', 'oak', 'oam', 'oar', 'oat', 'obe', 'obi', 'och', 'ock', 'oda', 'odd', 'ode', 'oer', 'oes', 'off', 'oft', 'ohm', 'oho', 'oii', 'oil', 'oka', 'oki', 'old', 'olm', 'ona', 'one', 'ons', 'ope', 'opt', 'ora', 'orb', 'orc', 'ore', 'orf', 'ort', 'ory', 'ose', 'ouf', 'our', 'out', 'ova', 'owd', 'owe', 'owk', 'owl', 'own', 'oxy', 'pac', 'pad', 'pah', 'pal', 'pam', 'pan', 'pap', 'par', 'pat', 'pau', 'paw', 'pax', 'pay', 'pea', 'ped', 'pee', 'peg', 'pen', 'pep', 'per', 'pes', 'pet', 'pew', 'phi', 'pho', 'phu', 'pia', 'pic', 'pie', 'pig', 'pik', 'pin', 'pip', 'pir', 'pit', 'pix', 'ply', 'pob', 'pod', 'poe', 'poh', 'poi', 'pol', 'pom', 'pon', 'pop', 'pot', 'pow', 'pox', 'poy', 'pro', 'pry', 'psi', 'pst', 'pua', 'pub', 'pud', 'pug', 'pul', 'pun', 'pup', 'pur', 'pus', 'put', 'pya', 'pyr', 'pyx', 'qua', 'quo', 'rab', 'rad', 'rag', 'rah', 'raj', 'ram', 'ran', 'rap', 'ras', 'rat', 'raw', 'rax', 'ray', 'rea', 'reb', 'red', 'ree', 'ref', 'reg', 'reh', 'rel', 'rep', 'ret', 'rev', 'rex', 'rhe', 'rho', 'ria', 'rib', 'rid', 'rie', 'rig', 'rim', 'rio', 'rip', 'rit', 'rix', 'rob', 'roc', 'rod', 'roe', 'rog', 'roi', 'rot', 'row', 'rox', 'rub', 'rud', 'rue', 'rug', 'rum', 'run', 'rut', 'rux', 'rye', 'saa', 'sab', 'sac', 'sad', 'sag', 'sah', 'sai', 'saj', 'sal', 'sam', 'san', 'sao', 'sap', 'sar', 'sat', 'saw', 'sax', 'say', 'sea', 'sec', 'see', 'seg', 'sen', 'ser', 'set', 'sew', 'sex', 'sey', 'sha', 'she', 'shi', 'sho', 'shy', 'sib', 'sic', 'sie', 'sig', 'sil', 'sin', 'sip', 'sir', 'sis', 'sit', 'six', 'ski', 'sky', 'sla', 'sly', 'sma', 'sny', 'sob', 'soc', 'sod', 'soe', 'sog', 'soh', 'sok', 'sol', 'son', 'sop', 'sot', 'sou', 'sov', 'sow', 'soy', 'spa', 'spy', 'sri', 'ssu', 'sty', 'sub', 'sud', 'sue', 'sum', 'sun', 'sup', 'sur', 'suz', 'swa', 'sye', 'taa', 'tab', 'tad', 'tae', 'tag', 'tai', 'taj', 'tal', 'tam', 'tan', 'tao', 'tap', 'tar', 'tat', 'tau', 'tav', 'taw', 'tax', 'tay', 'tch', 'tck', 'tea', 'tec', 'ted', 'tee', 'teg', 'ten', 'tew', 'tez', 'tha', 'the', 'tho', 'thy', 'tib', 'tic', 'tid', 'tie', 'tig', 'til', 'tin', 'tip', 'tit', 'tji', 'toa', 'tod', 'toe', 'tog', 'toi', 'tol', 'tom', 'ton', 'too', 'top', 'tor', 'tot', 'tou', 'tow', 'tox', 'toy', 'tra', 'tri', 'try', 'tst', 'tua', 'tub', 'tue', 'tug', 'tui', 'tum', 'tun', 'tup', 'tur', 'tut', 'tux', 'twa', 'two', 'tye', 'tyg', 'tyt', 'ubi', 'udo', 'ugh', 'uji', 'uke', 'ula', 'ule', 'ull', 'ulu', 'ume', 'ump', 'umu', 'upo', 'ura', 'urd', 'ure', 'urf', 'urn', 'use', 'ush', 'ust', 'uta', 'utu', 'uva', 'vag', 'van', 'vas', 'vat', 'vau', 'vee', 'vei', 'vet', 'vex', 'via', 'vie', 'vim', 'vis', 'voe', 'vog', 'vol', 'vow', 'vug', 'vum', 'wab', 'wad', 'wae', 'wag', 'wah', 'wan', 'wap', 'war', 'was', 'wat', 'waw', 'wax', 'way', 'web', 'wed', 'wee', 'wem', 'wen', 'wer', 'wet', 'wey', 'wha', 'who', 'why', 'wid', 'wig', 'wim', 'win', 'wir', 'wis', 'wit', 'wiz', 'wob', 'wod', 'woe', 'wog', 'wok', 'won', 'woo', 'wop', 'wot', 'wow', 'woy', 'wro', 'wry', 'wud', 'wun', 'wup', 'wur', 'wut', 'wye', 'wyn', 'yad', 'yah', 'yak', 'yam', 'yan', 'yap', 'yar', 'yas', 'yat', 'yaw', 'yea', 'yed', 'yee', 'yen', 'yeo', 'yep', 'yer', 'yes', 'yet', 'yew', 'yex', 'yez', 'yin', 'yip', 'yis', 'yoe', 'yoi', 'yok', 'yom', 'yon', 'yor', 'yot', 'you', 'yow', 'yox', 'yoy', 'yuh', 'yus', 'zac', 'zad', 'zag', 'zak', 'zar', 'zat', 'zax', 'zed', 'zee', 'zel', 'zer', 'zig', 'zip', 'zoa', 'zoo']\n"
     ]
    }
   ],
   "source": [
    "print(words3)"
   ]
  },
  {
   "cell_type": "code",
   "execution_count": null,
   "id": "03a18737-3538-46c1-bc53-5cc45c578436",
   "metadata": {},
   "outputs": [],
   "source": []
  }
 ],
 "metadata": {
  "kernelspec": {
   "display_name": "Python 3 (ipykernel)",
   "language": "python",
   "name": "python3"
  },
  "language_info": {
   "codemirror_mode": {
    "name": "ipython",
    "version": 3
   },
   "file_extension": ".py",
   "mimetype": "text/x-python",
   "name": "python",
   "nbconvert_exporter": "python",
   "pygments_lexer": "ipython3",
   "version": "3.10.7"
  }
 },
 "nbformat": 4,
 "nbformat_minor": 5
}
